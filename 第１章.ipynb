{
  "nbformat": 4,
  "nbformat_minor": 0,
  "metadata": {
    "colab": {
      "provenance": [],
      "authorship_tag": "ABX9TyPCT+oqB73IzbIpARTEvGK9",
      "include_colab_link": true
    },
    "kernelspec": {
      "name": "python3",
      "display_name": "Python 3"
    },
    "language_info": {
      "name": "python"
    }
  },
  "cells": [
    {
      "cell_type": "markdown",
      "metadata": {
        "id": "view-in-github",
        "colab_type": "text"
      },
      "source": [
        "<a href=\"https://colab.research.google.com/github/zz231008/-deeplearning/blob/main/%E7%AC%AC%EF%BC%91%E7%AB%A0.ipynb\" target=\"_parent\"><img src=\"https://colab.research.google.com/assets/colab-badge.svg\" alt=\"Open In Colab\"/></a>"
      ]
    },
    {
      "cell_type": "code",
      "execution_count": null,
      "metadata": {
        "id": "kR70oTioGQFA",
        "outputId": "2e9e92df-b913-491d-bf21-80db2ce858ab",
        "colab": {
          "base_uri": "https://localhost:8080/"
        }
      },
      "outputs": [
        {
          "output_type": "stream",
          "name": "stdout",
          "text": [
            "[1, 2, 3, 4, 5]\n"
          ]
        }
      ],
      "source": [
        "#1.3.4 list\n",
        "a = [1,2,3,4,5]\n",
        "print(a)"
      ]
    },
    {
      "cell_type": "code",
      "source": [
        "len(a)"
      ],
      "metadata": {
        "id": "7wCb0N8VGvye",
        "outputId": "55e7d11d-5546-410d-931f-70e375d5067c",
        "colab": {
          "base_uri": "https://localhost:8080/"
        }
      },
      "execution_count": null,
      "outputs": [
        {
          "output_type": "execute_result",
          "data": {
            "text/plain": [
              "5"
            ]
          },
          "metadata": {},
          "execution_count": 2
        }
      ]
    },
    {
      "cell_type": "code",
      "source": [
        "a[0]"
      ],
      "metadata": {
        "id": "99T520qoHqex",
        "outputId": "83976f4a-2d6a-49da-d472-86198a2119d5",
        "colab": {
          "base_uri": "https://localhost:8080/"
        }
      },
      "execution_count": null,
      "outputs": [
        {
          "output_type": "execute_result",
          "data": {
            "text/plain": [
              "1"
            ]
          },
          "metadata": {},
          "execution_count": 3
        }
      ]
    },
    {
      "cell_type": "code",
      "source": [
        "a[4]"
      ],
      "metadata": {
        "id": "fRmGefJ7HtDL",
        "outputId": "399f6bd9-140c-42af-a1f5-d57af4a137e2",
        "colab": {
          "base_uri": "https://localhost:8080/"
        }
      },
      "execution_count": null,
      "outputs": [
        {
          "output_type": "execute_result",
          "data": {
            "text/plain": [
              "5"
            ]
          },
          "metadata": {},
          "execution_count": 4
        }
      ]
    },
    {
      "cell_type": "code",
      "source": [
        "a[4]=99"
      ],
      "metadata": {
        "id": "ZcEUKzNwHxSP"
      },
      "execution_count": null,
      "outputs": []
    },
    {
      "cell_type": "code",
      "source": [
        "print(a)"
      ],
      "metadata": {
        "id": "3fKNihrEHzts",
        "outputId": "3c04d027-88c8-4193-9241-71b23661dd88",
        "colab": {
          "base_uri": "https://localhost:8080/"
        }
      },
      "execution_count": null,
      "outputs": [
        {
          "output_type": "stream",
          "name": "stdout",
          "text": [
            "[1, 2, 3, 4, 99]\n"
          ]
        }
      ]
    },
    {
      "cell_type": "code",
      "source": [
        "b=[1,2,3,4,5]"
      ],
      "metadata": {
        "id": "j5x0PY4UH1yQ"
      },
      "execution_count": null,
      "outputs": []
    },
    {
      "cell_type": "code",
      "source": [
        "print(a+b)"
      ],
      "metadata": {
        "id": "U6yWFt_GH8gH",
        "outputId": "f5d09b78-52f7-4c9d-e7f2-66323a8c8f86",
        "colab": {
          "base_uri": "https://localhost:8080/"
        }
      },
      "execution_count": null,
      "outputs": [
        {
          "output_type": "stream",
          "name": "stdout",
          "text": [
            "[1, 2, 3, 4, 99, 1, 2, 3, 4, 5]\n"
          ]
        }
      ]
    },
    {
      "cell_type": "code",
      "source": [
        "print(a*3)"
      ],
      "metadata": {
        "id": "6fXwewsJH_pY",
        "outputId": "55833473-50e8-4c52-e69d-d2403d544501",
        "colab": {
          "base_uri": "https://localhost:8080/"
        }
      },
      "execution_count": null,
      "outputs": [
        {
          "output_type": "stream",
          "name": "stdout",
          "text": [
            "[1, 2, 3, 4, 99, 1, 2, 3, 4, 99, 1, 2, 3, 4, 99]\n"
          ]
        }
      ]
    },
    {
      "cell_type": "code",
      "source": [
        "print(a)"
      ],
      "metadata": {
        "id": "ZvD69YIPIGjt",
        "colab": {
          "base_uri": "https://localhost:8080/"
        },
        "outputId": "e1a53439-754e-4ac0-ffca-bb195b05e018"
      },
      "execution_count": null,
      "outputs": [
        {
          "output_type": "stream",
          "name": "stdout",
          "text": [
            "[1, 2, 3, 4, 99]\n"
          ]
        }
      ]
    },
    {
      "cell_type": "code",
      "source": [
        "#０番目から２番目まで（２番目は含まない）\n",
        "a[0:2]"
      ],
      "metadata": {
        "colab": {
          "base_uri": "https://localhost:8080/"
        },
        "id": "LyHM72-EyHn8",
        "outputId": "b42db05b-7b71-4828-b4c9-5c6856183d83"
      },
      "execution_count": null,
      "outputs": [
        {
          "output_type": "execute_result",
          "data": {
            "text/plain": [
              "[1, 2]"
            ]
          },
          "metadata": {},
          "execution_count": 11
        }
      ]
    },
    {
      "cell_type": "code",
      "source": [
        "#１から最後まで\n",
        "a[1:]"
      ],
      "metadata": {
        "colab": {
          "base_uri": "https://localhost:8080/"
        },
        "id": "lUGCKRGsyJzn",
        "outputId": "facff425-2117-4e82-ed23-bda94a6d4682"
      },
      "execution_count": null,
      "outputs": [
        {
          "output_type": "execute_result",
          "data": {
            "text/plain": [
              "[2, 3, 4, 99]"
            ]
          },
          "metadata": {},
          "execution_count": 12
        }
      ]
    },
    {
      "cell_type": "code",
      "source": [
        "#最初から３番目まで（３番目は含まない）\n",
        "a[:3]"
      ],
      "metadata": {
        "colab": {
          "base_uri": "https://localhost:8080/"
        },
        "id": "XCjYERKgyNeA",
        "outputId": "96a036df-e79f-4335-d0fe-694193f5f70c"
      },
      "execution_count": null,
      "outputs": [
        {
          "output_type": "execute_result",
          "data": {
            "text/plain": [
              "[1, 2, 3]"
            ]
          },
          "metadata": {},
          "execution_count": 13
        }
      ]
    },
    {
      "cell_type": "code",
      "source": [
        "a[:-1]#最初から最後の一つ前まで"
      ],
      "metadata": {
        "colab": {
          "base_uri": "https://localhost:8080/"
        },
        "id": "gUZcGD6kyP39",
        "outputId": "e4b68a1f-552a-47a8-a19d-6a28fb17f23c"
      },
      "execution_count": null,
      "outputs": [
        {
          "output_type": "execute_result",
          "data": {
            "text/plain": [
              "[1, 2, 3, 4]"
            ]
          },
          "metadata": {},
          "execution_count": 14
        }
      ]
    },
    {
      "cell_type": "code",
      "source": [
        "a[:-2]#最初から最後の二つ前まで"
      ],
      "metadata": {
        "colab": {
          "base_uri": "https://localhost:8080/"
        },
        "id": "1YUseOeIyz0H",
        "outputId": "36ea5167-b83a-4e27-d19a-aba9eedb115b"
      },
      "execution_count": null,
      "outputs": [
        {
          "output_type": "execute_result",
          "data": {
            "text/plain": [
              "[1, 2, 3]"
            ]
          },
          "metadata": {},
          "execution_count": 15
        }
      ]
    },
    {
      "cell_type": "code",
      "source": [
        "#1.3.5 ディクショナリ\n",
        "me = {'height' : 180}\n",
        "me['height']"
      ],
      "metadata": {
        "colab": {
          "base_uri": "https://localhost:8080/"
        },
        "id": "58CpGiR8zHkp",
        "outputId": "fc7b551d-c3e9-416f-f551-f702cdcaa45c"
      },
      "execution_count": null,
      "outputs": [
        {
          "output_type": "execute_result",
          "data": {
            "text/plain": [
              "180"
            ]
          },
          "metadata": {},
          "execution_count": 17
        }
      ]
    },
    {
      "cell_type": "code",
      "source": [
        "me = {'height' :180, 'weight' : 75, 'sex' : 'male'}\n",
        "me['sex']"
      ],
      "metadata": {
        "colab": {
          "base_uri": "https://localhost:8080/",
          "height": 35
        },
        "id": "31Kkeb6AzcTb",
        "outputId": "afccc25b-b354-4ad8-8464-16daaf99a157"
      },
      "execution_count": null,
      "outputs": [
        {
          "output_type": "execute_result",
          "data": {
            "text/plain": [
              "'male'"
            ],
            "application/vnd.google.colaboratory.intrinsic+json": {
              "type": "string"
            }
          },
          "metadata": {},
          "execution_count": 18
        }
      ]
    },
    {
      "cell_type": "code",
      "source": [
        "#1.3.6 ブーリアン\n",
        "hungry = True\n",
        "sleepy = False\n",
        "type(hungry)"
      ],
      "metadata": {
        "colab": {
          "base_uri": "https://localhost:8080/"
        },
        "id": "PemiWeMazvYF",
        "outputId": "aacbfdf4-ce6e-48ab-d1cc-c645e2ad8646"
      },
      "execution_count": null,
      "outputs": [
        {
          "output_type": "execute_result",
          "data": {
            "text/plain": [
              "bool"
            ]
          },
          "metadata": {},
          "execution_count": 19
        }
      ]
    },
    {
      "cell_type": "code",
      "source": [
        "print(hungry and sleepy)\n",
        "print(hungry or sleepy)\n",
        "print(not hungry)"
      ],
      "metadata": {
        "colab": {
          "base_uri": "https://localhost:8080/"
        },
        "id": "Y3t_kOrh0lsW",
        "outputId": "5d37c121-3289-415b-a4d3-a844214039bc"
      },
      "execution_count": null,
      "outputs": [
        {
          "output_type": "stream",
          "name": "stdout",
          "text": [
            "False\n",
            "True\n",
            "False\n"
          ]
        }
      ]
    },
    {
      "cell_type": "code",
      "source": [
        "#1.3.7 if\n",
        "hungry = False\n",
        "if hungry:\n",
        "  print('I am hungry')\n",
        "else:\n",
        "  print('I am not hungry')\n",
        "  print('I am sleepy')"
      ],
      "metadata": {
        "colab": {
          "base_uri": "https://localhost:8080/"
        },
        "id": "LDel_5Nu0uzM",
        "outputId": "b107e17f-3f4e-47e4-d74d-bdf69fee4d63"
      },
      "execution_count": null,
      "outputs": [
        {
          "output_type": "stream",
          "name": "stdout",
          "text": [
            "I am not hungry\n",
            "I am sleepy\n"
          ]
        }
      ]
    },
    {
      "cell_type": "code",
      "source": [
        "# 1.3.8 for\n",
        "for i in [1, 2, 3]:\n",
        "  print(i)"
      ],
      "metadata": {
        "colab": {
          "base_uri": "https://localhost:8080/"
        },
        "id": "xzzX1XQc1Jvv",
        "outputId": "79327672-5209-45ce-9f3f-db8c73028c70"
      },
      "execution_count": null,
      "outputs": [
        {
          "output_type": "stream",
          "name": "stdout",
          "text": [
            "1\n",
            "2\n",
            "3\n"
          ]
        }
      ]
    },
    {
      "cell_type": "code",
      "source": [
        "#九九乘法表：结果横向输出，i从1到9，j从1到i，计算结果，格式化输出。\n",
        "for i in range(1, 10):\n",
        " for j in range(1, i+1):\n",
        "  resluts = i * j\n",
        "  print(f\"{j} x {i} = {resluts}\", end=\"\\t\")\n",
        " print()#换行"
      ],
      "metadata": {
        "colab": {
          "base_uri": "https://localhost:8080/"
        },
        "id": "Zci7GeW51rjT",
        "outputId": "7eac40cb-b956-4355-865f-b03e4da7b931"
      },
      "execution_count": null,
      "outputs": [
        {
          "output_type": "stream",
          "name": "stdout",
          "text": [
            "1 x 1 = 1\t\n",
            "1 x 2 = 2\t2 x 2 = 4\t\n",
            "1 x 3 = 3\t2 x 3 = 6\t3 x 3 = 9\t\n",
            "1 x 4 = 4\t2 x 4 = 8\t3 x 4 = 12\t4 x 4 = 16\t\n",
            "1 x 5 = 5\t2 x 5 = 10\t3 x 5 = 15\t4 x 5 = 20\t5 x 5 = 25\t\n",
            "1 x 6 = 6\t2 x 6 = 12\t3 x 6 = 18\t4 x 6 = 24\t5 x 6 = 30\t6 x 6 = 36\t\n",
            "1 x 7 = 7\t2 x 7 = 14\t3 x 7 = 21\t4 x 7 = 28\t5 x 7 = 35\t6 x 7 = 42\t7 x 7 = 49\t\n",
            "1 x 8 = 8\t2 x 8 = 16\t3 x 8 = 24\t4 x 8 = 32\t5 x 8 = 40\t6 x 8 = 48\t7 x 8 = 56\t8 x 8 = 64\t\n",
            "1 x 9 = 9\t2 x 9 = 18\t3 x 9 = 27\t4 x 9 = 36\t5 x 9 = 45\t6 x 9 = 54\t7 x 9 = 63\t8 x 9 = 72\t9 x 9 = 81\t\n"
          ]
        }
      ]
    },
    {
      "cell_type": "code",
      "source": [
        "#1.3.9 function\n",
        "def calculate():\n",
        "  num1 = input(\"please input num1=\",)\n",
        "  num2 = input(\"please input num2=\",)\n",
        "  operator = input(\"please input operator=\",)\n",
        "  if operator == \"+\":\n",
        "    result = int(num1) + int(num2)\n",
        "    print(\"计算结果为：\", result)\n",
        "  elif operator == \"-\":\n",
        "    result = int(num1) - int(num2)\n",
        "    print(\"计算结果为：\", result)\n",
        "  elif operator == \"*\":\n",
        "    result = int(num1) * int(num2)\n",
        "    print(\"计算结果为：\", result)\n",
        "  elif operator == \"/\":\n",
        "    result = int(num1) / int(num2)\n",
        "    print(\"计算结果为：\", result)\n",
        "    if num2 == 0 :\n",
        "      print(\"除数不能为0\")\n",
        "    return\n",
        "  else:\n",
        "    print(\"操作符错误\")\n",
        "  return\n",
        "\n",
        "def __name__calculate():\n",
        "    calculate()"
      ],
      "metadata": {
        "id": "vFttI5EE3DLF"
      },
      "execution_count": null,
      "outputs": []
    },
    {
      "cell_type": "code",
      "source": [
        "calculate()"
      ],
      "metadata": {
        "colab": {
          "base_uri": "https://localhost:8080/"
        },
        "id": "8j46x0RX7L88",
        "outputId": "55c6ecac-0c55-4230-c9f4-76084f9deec5"
      },
      "execution_count": null,
      "outputs": [
        {
          "output_type": "stream",
          "name": "stdout",
          "text": [
            "please input num1=1\n",
            "please input num2=5\n",
            "please input operator=/\n",
            "计算结果为： 0.2\n"
          ]
        }
      ]
    },
    {
      "cell_type": "code",
      "source": [
        "#1.4.2 class\n",
        "class Man:\n",
        "  def __init__(self,name):\n",
        "    self.name = name\n",
        "    print(\"Initialised\")\n",
        "\n",
        "  def hello(self):\n",
        "    print(\"Hello \" + self.name + \"!\")\n",
        "\n",
        "  def goodbye(self):\n",
        "    print(\"Goodbye \" + self.name + \"!\")\n",
        "\n",
        "m = Man(\"Tony\")\n",
        "m.hello()\n",
        "m.goodbye()"
      ],
      "metadata": {
        "colab": {
          "base_uri": "https://localhost:8080/"
        },
        "id": "6-bKhWdF8LxW",
        "outputId": "9065c988-c611-4a82-ac70-5da928f4c08c"
      },
      "execution_count": null,
      "outputs": [
        {
          "output_type": "stream",
          "name": "stdout",
          "text": [
            "Initialised\n",
            "Hello Tony!\n",
            "Goodbye Tony!\n"
          ]
        }
      ]
    },
    {
      "cell_type": "code",
      "source": [
        "#1.5 numpy\n",
        "#1.5.2/3 numpy array\n",
        "import numpy as np\n",
        "x = np.array([1.0, 2.0, 3.0 ])\n",
        "y = np.array([2.0, 4.0, 6.0])\n",
        "print(x+y)\n",
        "x-y"
      ],
      "metadata": {
        "id": "2mdeITY29IXW",
        "outputId": "db8700e2-99d9-43a2-b851-f16563a4c0fa",
        "colab": {
          "base_uri": "https://localhost:8080/"
        }
      },
      "execution_count": 8,
      "outputs": [
        {
          "output_type": "stream",
          "name": "stdout",
          "text": [
            "[3. 6. 9.]\n"
          ]
        },
        {
          "output_type": "execute_result",
          "data": {
            "text/plain": [
              "array([0.5, 0.5, 0.5])"
            ]
          },
          "metadata": {},
          "execution_count": 8
        }
      ]
    },
    {
      "cell_type": "code",
      "source": [
        "x*y"
      ],
      "metadata": {
        "id": "OGc6rebtTnRv",
        "outputId": "31634650-f4da-4128-90dc-322b86867f81",
        "colab": {
          "base_uri": "https://localhost:8080/"
        }
      },
      "execution_count": 9,
      "outputs": [
        {
          "output_type": "execute_result",
          "data": {
            "text/plain": [
              "array([ 2.,  8., 18.])"
            ]
          },
          "metadata": {},
          "execution_count": 9
        }
      ]
    },
    {
      "cell_type": "code",
      "source": [
        "x/y"
      ],
      "metadata": {
        "id": "-aKdh6w1fh6p",
        "outputId": "af4ff82e-6734-4066-8bd4-24ef290e72b2",
        "colab": {
          "base_uri": "https://localhost:8080/"
        }
      },
      "execution_count": 10,
      "outputs": [
        {
          "output_type": "execute_result",
          "data": {
            "text/plain": [
              "array([0.5, 0.5, 0.5])"
            ]
          },
          "metadata": {},
          "execution_count": 10
        }
      ]
    },
    {
      "cell_type": "code",
      "source": [
        "x*2"
      ],
      "metadata": {
        "id": "_mdYappqfjpB",
        "outputId": "6e907464-db42-4807-d9ba-5cd69da1f414",
        "colab": {
          "base_uri": "https://localhost:8080/"
        }
      },
      "execution_count": 11,
      "outputs": [
        {
          "output_type": "execute_result",
          "data": {
            "text/plain": [
              "array([2., 4., 6.])"
            ]
          },
          "metadata": {},
          "execution_count": 11
        }
      ]
    },
    {
      "cell_type": "code",
      "source": [
        "x/2"
      ],
      "metadata": {
        "id": "e4QIV8yYfwqv",
        "outputId": "0db05268-4667-4d70-d27b-09907914f4d8",
        "colab": {
          "base_uri": "https://localhost:8080/"
        }
      },
      "execution_count": 12,
      "outputs": [
        {
          "output_type": "execute_result",
          "data": {
            "text/plain": [
              "array([0.5, 1. , 1.5])"
            ]
          },
          "metadata": {},
          "execution_count": 12
        }
      ]
    },
    {
      "cell_type": "code",
      "source": [
        "#1.5.4 numpy n dim array\n",
        "a = np.array([[1, 2], [3, 4]])#2 dim vector\n",
        "print(a)"
      ],
      "metadata": {
        "id": "h1gVinDIfzvL",
        "outputId": "59d738fe-e497-47c2-cf8b-4e3b3fe032fc",
        "colab": {
          "base_uri": "https://localhost:8080/"
        }
      },
      "execution_count": 14,
      "outputs": [
        {
          "output_type": "stream",
          "name": "stdout",
          "text": [
            "[[1 2]\n",
            " [3 4]]\n"
          ]
        }
      ]
    },
    {
      "cell_type": "code",
      "source": [
        "a"
      ],
      "metadata": {
        "id": "I1CwgGUzgI95",
        "outputId": "52821b64-e1b6-4f60-ec53-dd90ad560257",
        "colab": {
          "base_uri": "https://localhost:8080/"
        }
      },
      "execution_count": 15,
      "outputs": [
        {
          "output_type": "execute_result",
          "data": {
            "text/plain": [
              "array([[1, 2],\n",
              "       [3, 4]])"
            ]
          },
          "metadata": {},
          "execution_count": 15
        }
      ]
    },
    {
      "cell_type": "code",
      "source": [
        "a.shape"
      ],
      "metadata": {
        "id": "0eT0TsVggNDU",
        "outputId": "6492d561-a686-4f4c-fbb9-7eb3ae778212",
        "colab": {
          "base_uri": "https://localhost:8080/"
        }
      },
      "execution_count": 17,
      "outputs": [
        {
          "output_type": "execute_result",
          "data": {
            "text/plain": [
              "(2, 2)"
            ]
          },
          "metadata": {},
          "execution_count": 17
        }
      ]
    },
    {
      "cell_type": "code",
      "source": [
        "a.dtype"
      ],
      "metadata": {
        "id": "myJl-9PBgPqS",
        "outputId": "b7460444-03a5-4bf7-b89a-4d6ac8c9fe4b",
        "colab": {
          "base_uri": "https://localhost:8080/"
        }
      },
      "execution_count": 18,
      "outputs": [
        {
          "output_type": "execute_result",
          "data": {
            "text/plain": [
              "dtype('int64')"
            ]
          },
          "metadata": {},
          "execution_count": 18
        }
      ]
    },
    {
      "cell_type": "code",
      "source": [
        "b = np.array([[3, 0], [0, 6]])\n",
        "a + b"
      ],
      "metadata": {
        "id": "qWhI6439gTFb",
        "outputId": "2ac88fbb-f96c-4539-e3c0-bb3b06ce79a0",
        "colab": {
          "base_uri": "https://localhost:8080/"
        }
      },
      "execution_count": 19,
      "outputs": [
        {
          "output_type": "execute_result",
          "data": {
            "text/plain": [
              "array([[ 4,  2],\n",
              "       [ 3, 10]])"
            ]
          },
          "metadata": {},
          "execution_count": 19
        }
      ]
    },
    {
      "cell_type": "code",
      "source": [
        "a * b"
      ],
      "metadata": {
        "id": "D0bBZyXkgdBw",
        "outputId": "8e7f4830-87f4-43cd-a51b-6d70acb71731",
        "colab": {
          "base_uri": "https://localhost:8080/"
        }
      },
      "execution_count": 20,
      "outputs": [
        {
          "output_type": "execute_result",
          "data": {
            "text/plain": [
              "array([[ 3,  0],\n",
              "       [ 0, 24]])"
            ]
          },
          "metadata": {},
          "execution_count": 20
        }
      ]
    },
    {
      "cell_type": "code",
      "source": [
        "a * 5"
      ],
      "metadata": {
        "id": "kzjk0L7Ngejd",
        "outputId": "1f95b0ee-8154-4df9-d974-3ca1923198a8",
        "colab": {
          "base_uri": "https://localhost:8080/"
        }
      },
      "execution_count": 21,
      "outputs": [
        {
          "output_type": "execute_result",
          "data": {
            "text/plain": [
              "array([[ 5, 10],\n",
              "       [15, 20]])"
            ]
          },
          "metadata": {},
          "execution_count": 21
        }
      ]
    },
    {
      "cell_type": "code",
      "source": [
        "#1.5.5 broadcast 当不一样形状的array做运算时，会扩张变形成一样的形状后再进行运算。\n",
        "a  = np.array([[1, 2], [3, 4]])\n",
        "b = np.array([10, 20])\n",
        "a * b"
      ],
      "metadata": {
        "id": "wC0YzqaPgkLH",
        "outputId": "1dd7d403-0997-4677-9679-274643b0cb69",
        "colab": {
          "base_uri": "https://localhost:8080/"
        }
      },
      "execution_count": 22,
      "outputs": [
        {
          "output_type": "execute_result",
          "data": {
            "text/plain": [
              "array([[10, 40],\n",
              "       [30, 80]])"
            ]
          },
          "metadata": {},
          "execution_count": 22
        }
      ]
    },
    {
      "cell_type": "code",
      "source": [
        "#1.5.6 access to elements\n",
        "X = np.array([[51, 55], [14, 19], [0, 4]])\n",
        "print(X)"
      ],
      "metadata": {
        "id": "N-39-YlahV-2",
        "outputId": "60a7ddd9-c398-409c-a12f-860c510483fb",
        "colab": {
          "base_uri": "https://localhost:8080/"
        }
      },
      "execution_count": 23,
      "outputs": [
        {
          "output_type": "stream",
          "name": "stdout",
          "text": [
            "[[51 55]\n",
            " [14 19]\n",
            " [ 0  4]]\n"
          ]
        }
      ]
    },
    {
      "cell_type": "code",
      "source": [
        "X[0]#row 0"
      ],
      "metadata": {
        "id": "clXsSHaniPN_",
        "outputId": "b1891c3c-4e44-4a6b-9879-de87b01a610e",
        "colab": {
          "base_uri": "https://localhost:8080/"
        }
      },
      "execution_count": 24,
      "outputs": [
        {
          "output_type": "execute_result",
          "data": {
            "text/plain": [
              "array([51, 55])"
            ]
          },
          "metadata": {},
          "execution_count": 24
        }
      ]
    },
    {
      "cell_type": "code",
      "source": [
        "X[0][1]#element of (0,1)"
      ],
      "metadata": {
        "id": "qQE92kSmiQ9K",
        "outputId": "71af6fb3-f1a0-45cd-c196-82d2b06408bc",
        "colab": {
          "base_uri": "https://localhost:8080/"
        }
      },
      "execution_count": 25,
      "outputs": [
        {
          "output_type": "execute_result",
          "data": {
            "text/plain": [
              "55"
            ]
          },
          "metadata": {},
          "execution_count": 25
        }
      ]
    },
    {
      "cell_type": "code",
      "source": [
        "for row in X:#print all elemnts\n",
        "  print(row)"
      ],
      "metadata": {
        "id": "s_BZKGNlilVs",
        "outputId": "3158b463-66be-4c4c-d8be-a3ce5c9640ce",
        "colab": {
          "base_uri": "https://localhost:8080/"
        }
      },
      "execution_count": 26,
      "outputs": [
        {
          "output_type": "stream",
          "name": "stdout",
          "text": [
            "[51 55]\n",
            "[14 19]\n",
            "[0 4]\n"
          ]
        }
      ]
    },
    {
      "cell_type": "code",
      "source": [
        "X = X.flatten()#flatten array to dim1\n",
        "print(X)"
      ],
      "metadata": {
        "id": "PmXgThMMio8R",
        "outputId": "9027be7c-8d3e-4ec7-cbb1-1d7d425de2e4",
        "colab": {
          "base_uri": "https://localhost:8080/"
        }
      },
      "execution_count": 28,
      "outputs": [
        {
          "output_type": "stream",
          "name": "stdout",
          "text": [
            "[51 55 14 19  0  4]\n"
          ]
        }
      ]
    },
    {
      "cell_type": "code",
      "source": [
        "X[np.array([0, 2, 4])]#index elements in number 0 and 2 and 4"
      ],
      "metadata": {
        "id": "yJeFzt8Xi2n2",
        "outputId": "5cda4062-52c3-4579-99b5-55d10fa005ca",
        "colab": {
          "base_uri": "https://localhost:8080/"
        }
      },
      "execution_count": 30,
      "outputs": [
        {
          "output_type": "execute_result",
          "data": {
            "text/plain": [
              "array([51, 14,  0])"
            ]
          },
          "metadata": {},
          "execution_count": 30
        }
      ]
    },
    {
      "cell_type": "code",
      "source": [
        "X > 15#return boolean array"
      ],
      "metadata": {
        "id": "I-pHrHQujegZ",
        "outputId": "a068c20c-eb3d-46fe-bf33-dabe2e690dee",
        "colab": {
          "base_uri": "https://localhost:8080/"
        }
      },
      "execution_count": 31,
      "outputs": [
        {
          "output_type": "execute_result",
          "data": {
            "text/plain": [
              "array([ True,  True, False,  True, False, False])"
            ]
          },
          "metadata": {},
          "execution_count": 31
        }
      ]
    },
    {
      "cell_type": "code",
      "source": [
        "X[X>15]"
      ],
      "metadata": {
        "id": "tO436YlAkEdz",
        "outputId": "570729ea-d7a0-4279-e4f4-9817cedc3e69",
        "colab": {
          "base_uri": "https://localhost:8080/"
        }
      },
      "execution_count": 32,
      "outputs": [
        {
          "output_type": "execute_result",
          "data": {
            "text/plain": [
              "array([51, 55, 19])"
            ]
          },
          "metadata": {},
          "execution_count": 32
        }
      ]
    },
    {
      "cell_type": "code",
      "source": [
        "#1.6 matplotlib\n",
        "# draw a graph\n",
        "import numpy as np\n",
        "import matplotlib.pyplot as plt\n",
        "x = np.arange(0, 6, 0.1) #arange[0, 0.1, 0.2,..., 5.8, 5.9]\n",
        "y = np.sin(x)\n",
        "plt.plot(x, y)\n",
        "plt.show()"
      ],
      "metadata": {
        "id": "AGrjaQunkIZO",
        "outputId": "571a8090-bfe5-411d-9e7c-9f41751b4ecd",
        "colab": {
          "base_uri": "https://localhost:8080/",
          "height": 430
        }
      },
      "execution_count": 37,
      "outputs": [
        {
          "output_type": "display_data",
          "data": {
            "text/plain": [
              "<Figure size 640x480 with 1 Axes>"
            ],
            "image/png": "[encoded data removed]"
          },
          "metadata": {}
        }
      ]
    },
    {
      "cell_type": "code",
      "source": [
        "#1.6.2 use pyplot\n",
        "import numpy as np\n",
        "import matplotlib.pyplot as plt\n",
        "x = np.arange(0, 6, 0.1)\n",
        "y1 = np.sin(x)\n",
        "y2 = np.cos(x)\n",
        "plt.plot(x, y1, label = 'sin')\n",
        "plt.plot(x, y2, linestyle = 'dashed', label = 'cos')\n",
        "#plt.plot(x, y1, 'go-', label = 'sin', linewidth = 2)\n",
        "#plt.plot(x, y2, 'bo-', linestyle = 'dashed', label = 'cos')\n",
        "plt.xlabel('x')\n",
        "plt.ylabel('y')\n",
        "plt.title(' sin&cos')\n",
        "plt.legend()\n",
        "plt.show()"
      ],
      "metadata": {
        "id": "SO8I9immk2xE",
        "outputId": "c1ddf0f2-b169-4493-dd40-2d11e8414cdc",
        "colab": {
          "base_uri": "https://localhost:8080/",
          "height": 472
        }
      },
      "execution_count": 52,
      "outputs": [
        {
          "output_type": "display_data",
          "data": {
            "text/plain": [
              "<Figure size 640x480 with 1 Axes>"
            ],
            "image/png": "[encoded data removed]"
          },
          "metadata": {}
        }
      ]
    },
    {
      "cell_type": "code",
      "source": [
        "#1.6.3 show a image\n",
        "import matplotlib.pyplot as plt\n",
        "from matplotlib.image import imread\n",
        "img = imread('1.jpg')\n",
        "plt.imshow(img)\n",
        "plt.show()"
      ],
      "metadata": {
        "id": "7pgVB519mYos",
        "outputId": "f07242f1-a3d7-4352-d419-b24898c25dc4",
        "colab": {
          "base_uri": "https://localhost:8080/",
          "height": 435
        }
      },
      "execution_count": 56,
      "outputs": [
        {
          "output_type": "display_data",
          "data": {
            "text/plain": [
              "<Figure size 640x480 with 1 Axes>"
            ],
            "image/png": "[encoded data removed]"
          },
          "metadata": {}
        }
      ]
    },
    {
      "cell_type": "code",
      "source": [],
      "metadata": {
        "id": "NYx9K1KupH9p"
      },
      "execution_count": null,
      "outputs": []
    }
  ]
}