{
  "nbformat": 4,
  "nbformat_minor": 0,
  "metadata": {
    "colab": {
      "provenance": [],
      "authorship_tag": "ABX9TyNXst43TMp/k5jCAAnyaY5o",
      "include_colab_link": true
    },
    "kernelspec": {
      "name": "python3",
      "display_name": "Python 3"
    },
    "language_info": {
      "name": "python"
    }
  },
  "cells": [
    {
      "cell_type": "markdown",
      "metadata": {
        "id": "view-in-github",
        "colab_type": "text"
      },
      "source": [
        "<a href=\"https://colab.research.google.com/github/zz231008/-deeplearning/blob/main/%E7%AC%AC%EF%BC%91%E7%AB%A0.ipynb\" target=\"_parent\"><img src=\"https://colab.research.google.com/assets/colab-badge.svg\" alt=\"Open In Colab\"/></a>"
      ]
    },
    {
      "cell_type": "code",
      "execution_count": null,
      "metadata": {
        "id": "kR70oTioGQFA",
        "outputId": "2e9e92df-b913-491d-bf21-80db2ce858ab",
        "colab": {
          "base_uri": "https://localhost:8080/"
        }
      },
      "outputs": [
        {
          "output_type": "stream",
          "name": "stdout",
          "text": [
            "[1, 2, 3, 4, 5]\n"
          ]
        }
      ],
      "source": [
        "#1.3.4 list\n",
        "a = [1,2,3,4,5]\n",
        "print(a)"
      ]
    },
    {
      "cell_type": "code",
      "source": [
        "len(a)"
      ],
      "metadata": {
        "id": "7wCb0N8VGvye",
        "outputId": "55e7d11d-5546-410d-931f-70e375d5067c",
        "colab": {
          "base_uri": "https://localhost:8080/"
        }
      },
      "execution_count": null,
      "outputs": [
        {
          "output_type": "execute_result",
          "data": {
            "text/plain": [
              "5"
            ]
          },
          "metadata": {},
          "execution_count": 2
        }
      ]
    },
    {
      "cell_type": "code",
      "source": [
        "a[0]"
      ],
      "metadata": {
        "id": "99T520qoHqex",
        "outputId": "83976f4a-2d6a-49da-d472-86198a2119d5",
        "colab": {
          "base_uri": "https://localhost:8080/"
        }
      },
      "execution_count": null,
      "outputs": [
        {
          "output_type": "execute_result",
          "data": {
            "text/plain": [
              "1"
            ]
          },
          "metadata": {},
          "execution_count": 3
        }
      ]
    },
    {
      "cell_type": "code",
      "source": [
        "a[4]"
      ],
      "metadata": {
        "id": "fRmGefJ7HtDL",
        "outputId": "399f6bd9-140c-42af-a1f5-d57af4a137e2",
        "colab": {
          "base_uri": "https://localhost:8080/"
        }
      },
      "execution_count": null,
      "outputs": [
        {
          "output_type": "execute_result",
          "data": {
            "text/plain": [
              "5"
            ]
          },
          "metadata": {},
          "execution_count": 4
        }
      ]
    },
    {
      "cell_type": "code",
      "source": [
        "a[4]=99"
      ],
      "metadata": {
        "id": "ZcEUKzNwHxSP"
      },
      "execution_count": null,
      "outputs": []
    },
    {
      "cell_type": "code",
      "source": [
        "print(a)"
      ],
      "metadata": {
        "id": "3fKNihrEHzts",
        "outputId": "3c04d027-88c8-4193-9241-71b23661dd88",
        "colab": {
          "base_uri": "https://localhost:8080/"
        }
      },
      "execution_count": null,
      "outputs": [
        {
          "output_type": "stream",
          "name": "stdout",
          "text": [
            "[1, 2, 3, 4, 99]\n"
          ]
        }
      ]
    },
    {
      "cell_type": "code",
      "source": [
        "b=[1,2,3,4,5]"
      ],
      "metadata": {
        "id": "j5x0PY4UH1yQ"
      },
      "execution_count": null,
      "outputs": []
    },
    {
      "cell_type": "code",
      "source": [
        "print(a+b)"
      ],
      "metadata": {
        "id": "U6yWFt_GH8gH",
        "outputId": "f5d09b78-52f7-4c9d-e7f2-66323a8c8f86",
        "colab": {
          "base_uri": "https://localhost:8080/"
        }
      },
      "execution_count": null,
      "outputs": [
        {
          "output_type": "stream",
          "name": "stdout",
          "text": [
            "[1, 2, 3, 4, 99, 1, 2, 3, 4, 5]\n"
          ]
        }
      ]
    },
    {
      "cell_type": "code",
      "source": [
        "print(a*3)"
      ],
      "metadata": {
        "id": "6fXwewsJH_pY",
        "outputId": "55833473-50e8-4c52-e69d-d2403d544501",
        "colab": {
          "base_uri": "https://localhost:8080/"
        }
      },
      "execution_count": null,
      "outputs": [
        {
          "output_type": "stream",
          "name": "stdout",
          "text": [
            "[1, 2, 3, 4, 99, 1, 2, 3, 4, 99, 1, 2, 3, 4, 99]\n"
          ]
        }
      ]
    },
    {
      "cell_type": "code",
      "source": [
        "print(a)"
      ],
      "metadata": {
        "id": "ZvD69YIPIGjt",
        "colab": {
          "base_uri": "https://localhost:8080/"
        },
        "outputId": "e1a53439-754e-4ac0-ffca-bb195b05e018"
      },
      "execution_count": null,
      "outputs": [
        {
          "output_type": "stream",
          "name": "stdout",
          "text": [
            "[1, 2, 3, 4, 99]\n"
          ]
        }
      ]
    },
    {
      "cell_type": "code",
      "source": [
        "#０番目から２番目まで（２番目は含まない）\n",
        "a[0:2]"
      ],
      "metadata": {
        "colab": {
          "base_uri": "https://localhost:8080/"
        },
        "id": "LyHM72-EyHn8",
        "outputId": "b42db05b-7b71-4828-b4c9-5c6856183d83"
      },
      "execution_count": null,
      "outputs": [
        {
          "output_type": "execute_result",
          "data": {
            "text/plain": [
              "[1, 2]"
            ]
          },
          "metadata": {},
          "execution_count": 11
        }
      ]
    },
    {
      "cell_type": "code",
      "source": [
        "#１から最後まで\n",
        "a[1:]"
      ],
      "metadata": {
        "colab": {
          "base_uri": "https://localhost:8080/"
        },
        "id": "lUGCKRGsyJzn",
        "outputId": "facff425-2117-4e82-ed23-bda94a6d4682"
      },
      "execution_count": null,
      "outputs": [
        {
          "output_type": "execute_result",
          "data": {
            "text/plain": [
              "[2, 3, 4, 99]"
            ]
          },
          "metadata": {},
          "execution_count": 12
        }
      ]
    },
    {
      "cell_type": "code",
      "source": [
        "#最初から３番目まで（３番目は含まない）\n",
        "a[:3]"
      ],
      "metadata": {
        "colab": {
          "base_uri": "https://localhost:8080/"
        },
        "id": "XCjYERKgyNeA",
        "outputId": "96a036df-e79f-4335-d0fe-694193f5f70c"
      },
      "execution_count": null,
      "outputs": [
        {
          "output_type": "execute_result",
          "data": {
            "text/plain": [
              "[1, 2, 3]"
            ]
          },
          "metadata": {},
          "execution_count": 13
        }
      ]
    },
    {
      "cell_type": "code",
      "source": [
        "a[:-1]#最初から最後の一つ前まで"
      ],
      "metadata": {
        "colab": {
          "base_uri": "https://localhost:8080/"
        },
        "id": "gUZcGD6kyP39",
        "outputId": "e4b68a1f-552a-47a8-a19d-6a28fb17f23c"
      },
      "execution_count": null,
      "outputs": [
        {
          "output_type": "execute_result",
          "data": {
            "text/plain": [
              "[1, 2, 3, 4]"
            ]
          },
          "metadata": {},
          "execution_count": 14
        }
      ]
    },
    {
      "cell_type": "code",
      "source": [
        "a[:-2]#最初から最後の二つ前まで"
      ],
      "metadata": {
        "colab": {
          "base_uri": "https://localhost:8080/"
        },
        "id": "1YUseOeIyz0H",
        "outputId": "36ea5167-b83a-4e27-d19a-aba9eedb115b"
      },
      "execution_count": null,
      "outputs": [
        {
          "output_type": "execute_result",
          "data": {
            "text/plain": [
              "[1, 2, 3]"
            ]
          },
          "metadata": {},
          "execution_count": 15
        }
      ]
    },
    {
      "cell_type": "code",
      "source": [
        "#1.3.5 ディクショナリ\n",
        "me = {'height' : 180}\n",
        "me['height']"
      ],
      "metadata": {
        "colab": {
          "base_uri": "https://localhost:8080/"
        },
        "id": "58CpGiR8zHkp",
        "outputId": "fc7b551d-c3e9-416f-f551-f702cdcaa45c"
      },
      "execution_count": null,
      "outputs": [
        {
          "output_type": "execute_result",
          "data": {
            "text/plain": [
              "180"
            ]
          },
          "metadata": {},
          "execution_count": 17
        }
      ]
    },
    {
      "cell_type": "code",
      "source": [
        "me = {'height' :180, 'weight' : 75, 'sex' : 'male'}\n",
        "me['sex']"
      ],
      "metadata": {
        "colab": {
          "base_uri": "https://localhost:8080/",
          "height": 35
        },
        "id": "31Kkeb6AzcTb",
        "outputId": "afccc25b-b354-4ad8-8464-16daaf99a157"
      },
      "execution_count": null,
      "outputs": [
        {
          "output_type": "execute_result",
          "data": {
            "text/plain": [
              "'male'"
            ],
            "application/vnd.google.colaboratory.intrinsic+json": {
              "type": "string"
            }
          },
          "metadata": {},
          "execution_count": 18
        }
      ]
    },
    {
      "cell_type": "code",
      "source": [
        "#1.3.6 ブーリアン\n",
        "hungry = True\n",
        "sleepy = False\n",
        "type(hungry)"
      ],
      "metadata": {
        "colab": {
          "base_uri": "https://localhost:8080/"
        },
        "id": "PemiWeMazvYF",
        "outputId": "aacbfdf4-ce6e-48ab-d1cc-c645e2ad8646"
      },
      "execution_count": null,
      "outputs": [
        {
          "output_type": "execute_result",
          "data": {
            "text/plain": [
              "bool"
            ]
          },
          "metadata": {},
          "execution_count": 19
        }
      ]
    },
    {
      "cell_type": "code",
      "source": [
        "print(hungry and sleepy)\n",
        "print(hungry or sleepy)\n",
        "print(not hungry)"
      ],
      "metadata": {
        "colab": {
          "base_uri": "https://localhost:8080/"
        },
        "id": "Y3t_kOrh0lsW",
        "outputId": "5d37c121-3289-415b-a4d3-a844214039bc"
      },
      "execution_count": null,
      "outputs": [
        {
          "output_type": "stream",
          "name": "stdout",
          "text": [
            "False\n",
            "True\n",
            "False\n"
          ]
        }
      ]
    },
    {
      "cell_type": "code",
      "source": [
        "#1.3.7 if\n",
        "hungry = False\n",
        "if hungry:\n",
        "  print('I am hungry')\n",
        "else:\n",
        "  print('I am not hungry')\n",
        "  print('I am sleepy')"
      ],
      "metadata": {
        "colab": {
          "base_uri": "https://localhost:8080/"
        },
        "id": "LDel_5Nu0uzM",
        "outputId": "b107e17f-3f4e-47e4-d74d-bdf69fee4d63"
      },
      "execution_count": null,
      "outputs": [
        {
          "output_type": "stream",
          "name": "stdout",
          "text": [
            "I am not hungry\n",
            "I am sleepy\n"
          ]
        }
      ]
    },
    {
      "cell_type": "code",
      "source": [
        "# 1.3.8 for\n",
        "for i in [1, 2, 3]:\n",
        "  print(i)"
      ],
      "metadata": {
        "colab": {
          "base_uri": "https://localhost:8080/"
        },
        "id": "xzzX1XQc1Jvv",
        "outputId": "79327672-5209-45ce-9f3f-db8c73028c70"
      },
      "execution_count": null,
      "outputs": [
        {
          "output_type": "stream",
          "name": "stdout",
          "text": [
            "1\n",
            "2\n",
            "3\n"
          ]
        }
      ]
    },
    {
      "cell_type": "code",
      "source": [
        "#九九乘法表：结果横向输出，i从1到9，j从1到i，计算结果，格式化输出。\n",
        "for i in range(1, 10):\n",
        " for j in range(1, i+1):\n",
        "  resluts = i * j\n",
        "  print(f\"{j} x {i} = {resluts}\", end=\"\\t\")\n",
        " print()#换行"
      ],
      "metadata": {
        "colab": {
          "base_uri": "https://localhost:8080/"
        },
        "id": "Zci7GeW51rjT",
        "outputId": "7eac40cb-b956-4355-865f-b03e4da7b931"
      },
      "execution_count": null,
      "outputs": [
        {
          "output_type": "stream",
          "name": "stdout",
          "text": [
            "1 x 1 = 1\t\n",
            "1 x 2 = 2\t2 x 2 = 4\t\n",
            "1 x 3 = 3\t2 x 3 = 6\t3 x 3 = 9\t\n",
            "1 x 4 = 4\t2 x 4 = 8\t3 x 4 = 12\t4 x 4 = 16\t\n",
            "1 x 5 = 5\t2 x 5 = 10\t3 x 5 = 15\t4 x 5 = 20\t5 x 5 = 25\t\n",
            "1 x 6 = 6\t2 x 6 = 12\t3 x 6 = 18\t4 x 6 = 24\t5 x 6 = 30\t6 x 6 = 36\t\n",
            "1 x 7 = 7\t2 x 7 = 14\t3 x 7 = 21\t4 x 7 = 28\t5 x 7 = 35\t6 x 7 = 42\t7 x 7 = 49\t\n",
            "1 x 8 = 8\t2 x 8 = 16\t3 x 8 = 24\t4 x 8 = 32\t5 x 8 = 40\t6 x 8 = 48\t7 x 8 = 56\t8 x 8 = 64\t\n",
            "1 x 9 = 9\t2 x 9 = 18\t3 x 9 = 27\t4 x 9 = 36\t5 x 9 = 45\t6 x 9 = 54\t7 x 9 = 63\t8 x 9 = 72\t9 x 9 = 81\t\n"
          ]
        }
      ]
    },
    {
      "cell_type": "code",
      "source": [
        "#1.3.9 function\n",
        "def calculate():\n",
        "  num1 = input(\"please input num1=\",)\n",
        "  num2 = input(\"please input num2=\",)\n",
        "  operator = input(\"please input operator=\",)\n",
        "  if operator == \"+\":\n",
        "    result = int(num1) + int(num2)\n",
        "    print(\"计算结果为：\", result)\n",
        "  elif operator == \"-\":\n",
        "    result = int(num1) - int(num2)\n",
        "    print(\"计算结果为：\", result)\n",
        "  elif operator == \"*\":\n",
        "    result = int(num1) * int(num2)\n",
        "    print(\"计算结果为：\", result)\n",
        "  elif operator == \"/\":\n",
        "    result = int(num1) / int(num2)\n",
        "    print(\"计算结果为：\", result)\n",
        "    if num2 == 0 :\n",
        "      print(\"除数不能为0\")\n",
        "    return\n",
        "  else:\n",
        "    print(\"操作符错误\")\n",
        "  return\n",
        "\n",
        "def __name__calculate():\n",
        "    calculate()"
      ],
      "metadata": {
        "id": "vFttI5EE3DLF"
      },
      "execution_count": null,
      "outputs": []
    },
    {
      "cell_type": "code",
      "source": [
        "calculate()"
      ],
      "metadata": {
        "colab": {
          "base_uri": "https://localhost:8080/"
        },
        "id": "8j46x0RX7L88",
        "outputId": "55c6ecac-0c55-4230-c9f4-76084f9deec5"
      },
      "execution_count": null,
      "outputs": [
        {
          "output_type": "stream",
          "name": "stdout",
          "text": [
            "please input num1=1\n",
            "please input num2=5\n",
            "please input operator=/\n",
            "计算结果为： 0.2\n"
          ]
        }
      ]
    },
    {
      "cell_type": "code",
      "source": [
        "#1.4.2 class\n",
        "class Man:\n",
        "  def __init__(self,name):\n",
        "    self.name = name\n",
        "    print(\"Initialised\")\n",
        "\n",
        "  def hello(self):\n",
        "    print(\"Hello \" + self.name + \"!\")\n",
        "\n",
        "  def goodbye(self):\n",
        "    print(\"Goodbye \" + self.name + \"!\")\n",
        "\n",
        "m = Man(\"Tony\")\n",
        "m.hello()\n",
        "m.goodbye()"
      ],
      "metadata": {
        "colab": {
          "base_uri": "https://localhost:8080/"
        },
        "id": "6-bKhWdF8LxW",
        "outputId": "9065c988-c611-4a82-ac70-5da928f4c08c"
      },
      "execution_count": null,
      "outputs": [
        {
          "output_type": "stream",
          "name": "stdout",
          "text": [
            "Initialised\n",
            "Hello Tony!\n",
            "Goodbye Tony!\n"
          ]
        }
      ]
    },
    {
      "cell_type": "code",
      "source": [
        "#1.5 numpy\n",
        "#1.5 numpy array\n",
        "import numpy as np\n",
        "x = np.array(1.0 ,2.0, 3.0 )\n",
        "print(x)"
      ],
      "metadata": {
        "id": "2mdeITY29IXW"
      },
      "execution_count": null,
      "outputs": []
    },
    {
      "cell_type": "code",
      "source": [],
      "metadata": {
        "id": "OGc6rebtTnRv"
      },
      "execution_count": null,
      "outputs": []
    }
  ]
}